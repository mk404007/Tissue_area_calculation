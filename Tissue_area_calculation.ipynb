{
 "cells": [
  {
   "cell_type": "markdown",
   "id": "bfd109d2-4090-4eb3-b276-a4c58ee44766",
   "metadata": {},
   "source": [
    "# Tissue area calculation Notebook\n",
    "\n",
    "06/09/2024"
   ]
  },
  {
   "cell_type": "code",
   "execution_count": null,
   "id": "a9a04543-c841-4f75-96d3-108ab2b22180",
   "metadata": {},
   "outputs": [],
   "source": [
    "import os\n",
    "import pandas as pd\n",
    "import numpy as np\n",
    "import matplotlib.pyplot as plt\n",
    "\n",
    "%matplotlib notebook\n",
    "%matplotlib widget"
   ]
  },
  {
   "cell_type": "raw",
   "id": "8cee3b2b-4f95-4eb1-bb47-1be7532c4637",
   "metadata": {},
   "source": []
  },
  {
   "cell_type": "code",
   "execution_count": 196,
   "id": "ddfc6b95-8e1d-4858-a34a-14f0b686f4b0",
   "metadata": {},
   "outputs": [],
   "source": [
    "def XYarray_from_df(df):\n",
    "    return df[['Nuc_X', 'Nuc_Y_Inv']].to_numpy()"
   ]
  },
  {
   "cell_type": "code",
   "execution_count": 5,
   "id": "c8cc53e5-05c7-43aa-9ce8-1ab5c8b87614",
   "metadata": {},
   "outputs": [],
   "source": [
    "# Returns the area covered by N 2D-points provided in a 'points' array;\n",
    "## points = [ (x1,y1), (x2,y2), ... , (xN, yN) ]\n",
    "# grid_size = [X, Y]: Gives the number of grid cells in x and y axis of the bounding box the 'points' array will be drawn into to calculate the area\n",
    "## Larger 'grid_size' values mean smaller grid cells, higher precision of the area calculation and longer runtime\n",
    "def area_of_points(points, grid_size):\n",
    "    pts_x = [x for x,y in points]\n",
    "    pts_y = [y for x,y in points]\n",
    "    \n",
    "    pts_bb_area = (max(pts_x)-min(pts_x))*(max(pts_y)-min(pts_y))\n",
    "    h2D,_,_,_ = plt.hist2d(pts_x, pts_y, bins = grid_size, cmin=1)\n",
    "    numberOfWhiteBins = np.count_nonzero(np.isnan(h2D))\n",
    "    numberOfAll2Dbins = h2D.shape[0]*h2D.shape[1] \n",
    "    areaFactor = 1.0 - numberOfWhiteBins/numberOfAll2Dbins\n",
    "    pts_pts_area = areaFactor * pts_bb_area\n",
    "    print(f'Areas: b-box = {pts_bb_area:8.4f}, points = {pts_pts_area:8.4f}')\n",
    "    \n",
    "    plt.show()\n",
    "    \n",
    "    return pts_pts_area # area of colored points in the box (in pixel2)"
   ]
  },
  {
   "cell_type": "code",
   "execution_count": 2,
   "id": "d1781d55-4bf9-4d65-aef0-28102a71f2fc",
   "metadata": {},
   "outputs": [],
   "source": [
    "def calculate_Tissue_area(data, grid_size):\n",
    "    array = XYarray_from_df(data)\n",
    "    tissue_area = area_of_points(array.tolist(), grid_size)\n",
    "    \n",
    "    return tissue_area"
   ]
  },
  {
   "cell_type": "code",
   "execution_count": null,
   "id": "06656a61-b092-45a2-93d1-a3b869902257",
   "metadata": {},
   "outputs": [],
   "source": [
    "def df_Tissue_area(df, grid_size):\n",
    "    area_pxl = calculate_Tissue_area(df, grid_size)\n",
    "    area_mm = area_pxl * ((0.65*0.65)/1000000) # conversion factor; 0.650 (micrometers/pixels, according to QiTissue) -> divide per 1000000 to convert to square millimeters\n",
    "    df[\"Tissue_area(pixel^2)\"] = area_pxl\n",
    "    df[\"Tissue_area(mm^2)\"] = area_mm\n",
    "    \n",
    "    return df"
   ]
  },
  {
   "cell_type": "code",
   "execution_count": 6,
   "id": "92d582d0-3a47-4d13-86c1-36eebf91fa25",
   "metadata": {},
   "outputs": [],
   "source": [
    "def main_Tissue_area(df_name, grid_size):\n",
    "    data = pd.read_csv('{}.csv'.format(df_name))\n",
    "\n",
    "    # Calculate tissue area separately for each sample\n",
    "    df_list = [] # where each updated df (with the tissue area) wil be stored\n",
    "    for s in data.Sample_scene.unique():\n",
    "        df_s = data.loc[data.Sample_scene == s]\n",
    "        df_s = df_Tissue_area(df_s, grid_size)\n",
    "        df_list.append(df_s)\n",
    "\n",
    "    final_df = pd.concat(df_list, ignore_index=True)  # reassemble all updated dataframes\n",
    "\n",
    "    return final_df"
   ]
  },
  {
   "cell_type": "markdown",
   "id": "7877fa64-5e12-4f92-91b1-c2d7f48abf24",
   "metadata": {},
   "source": [
    "Prepare your data before running the next cell. It must at least contain the following columns:"
   ]
  },
  {
   "cell_type": "markdown",
   "id": "ebf2f3e8-513c-4137-9478-99334e0f86b0",
   "metadata": {},
   "source": [
    "* \"Sample_scene\": Samples with big data usually contain scenes. Otherwise, replace it with \"Sample_ID\" in the above code"
   ]
  },
  {
   "cell_type": "markdown",
   "id": "3e811161-39a8-40b7-9940-98c32ca0ca3e",
   "metadata": {},
   "source": [
    "* \"Nuc_X\": X cell coordinates"
   ]
  },
  {
   "cell_type": "markdown",
   "id": "0c7fabb7-672e-4b9a-b3ef-16f2ef0cdf27",
   "metadata": {},
   "source": [
    "* \"Nuc_Y_Inv\": Y cell coordinates"
   ]
  },
  {
   "cell_type": "code",
   "execution_count": null,
   "id": "1bf043f2-f57d-4396-bd53-2246521c54bd",
   "metadata": {
    "scrolled": true
   },
   "outputs": [],
   "source": [
    "df_tissue_area = main_Tissue_area(\"name_of_CSV_df_file\", [150, 150]) # 'grid_size' may vary as the user's wish, but [150, 150] will be the default to set binning size"
   ]
  },
  {
   "cell_type": "code",
   "execution_count": null,
   "id": "eb5fdc27-e46c-43cf-807d-e93a2265a814",
   "metadata": {},
   "outputs": [],
   "source": []
  }
 ],
 "metadata": {
  "kernelspec": {
   "display_name": "Python 3 (ipykernel)",
   "language": "python",
   "name": "python3"
  },
  "language_info": {
   "codemirror_mode": {
    "name": "ipython",
    "version": 3
   },
   "file_extension": ".py",
   "mimetype": "text/x-python",
   "name": "python",
   "nbconvert_exporter": "python",
   "pygments_lexer": "ipython3",
   "version": "3.12.4"
  }
 },
 "nbformat": 4,
 "nbformat_minor": 5
}
